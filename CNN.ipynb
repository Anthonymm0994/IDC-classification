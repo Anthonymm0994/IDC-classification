{
 "cells": [
  {
   "cell_type": "code",
   "execution_count": 12,
   "metadata": {},
   "outputs": [],
   "source": [
    "import numpy as np\n",
    "import matplotlib.pyplot as plt\n",
    "import fnmatch\n",
    "import cv2\n",
    "from keras import layers\n",
    "from keras import optimizers\n",
    "from keras.models import Sequential\n",
    "from keras.utils import to_categorical\n",
    "from keras.preprocessing.image import ImageDataGenerator\n",
    "import tensorflow\n",
    "from tensorflow.keras.metrics import Recall\n",
    "from glob import glob\n",
    "from pandas import DataFrame\n",
    "from sklearn.metrics import classification_report, confusion_matrix\n",
    "from sklearn.model_selection import StratifiedKFold"
   ]
  },
  {
   "cell_type": "markdown",
   "metadata": {},
   "source": [
    "### Data Wrangling and Preprocessing"
   ]
  },
  {
   "cell_type": "code",
   "execution_count": 4,
   "metadata": {
    "scrolled": true
   },
   "outputs": [
    {
     "name": "stdout",
     "output_type": "stream",
     "text": [
      "Total Image Patches:  277524\n",
      "Total Positive Patches:  78786\n",
      "Total Negative Patches:  198738\n"
     ]
    },
    {
     "data": {
      "text/plain": [
       "<matplotlib.image.AxesImage at 0x7f79864bf9b0>"
      ]
     },
     "execution_count": 4,
     "metadata": {},
     "output_type": "execute_result"
    },
    {
     "data": {
      "image/png": "[encoded data removed]",
      "text/plain": [
       "<Figure size 432x288 with 1 Axes>"
      ]
     },
     "metadata": {
      "needs_background": "light"
     },
     "output_type": "display_data"
    }
   ],
   "source": [
    "imageFiles = glob('/home/justin/.kaggle/idc/IDC_regular_ps50_idx5/**/*.png', \n",
    "              recursive = True)\n",
    "images = np.array([cv2.cvtColor(cv2.resize(cv2.imread(file), (50,50)),  cv2.COLOR_BGR2Luv) for file in imageFiles])\n",
    "imagesRBG = np.array([cv2.resize(cv2.imread(file), (50,50)) for file in imageFiles])\n",
    "labels = np.array([0 if '0' == file[-5] else 1 for file in imageFiles])\n",
    "# print(labels.shape)\n",
    "# print(images.shape)\n",
    "# d = {'Image': images, \"Label\": labels}\n",
    "# data = DataFrame(data=d)\n",
    "# print(data)\n",
    "num_negative = np.count_nonzero(labels==0)\n",
    "num_positive = np.count_nonzero(labels==1)\n",
    "print(\"Total Image Patches: \", len(imageFiles))\n",
    "print(\"Total Positive Patches: \", num_positive)\n",
    "print(\"Total Negative Patches: \", num_negative)\n",
    "plt.imshow(images[110])\n",
    "#plt.imshow(imagesRBG[0])"
   ]
  },
  {
   "cell_type": "code",
   "execution_count": 3,
   "metadata": {},
   "outputs": [
    {
     "data": {
      "image/png": "[encoded data removed]",
      "text/plain": [
       "<Figure size 432x288 with 1 Axes>"
      ]
     },
     "metadata": {
      "needs_background": "light"
     },
     "output_type": "display_data"
    }
   ],
   "source": [
    "a = plt.bar((1,2),(num_negative, num_positive), align='center')\n",
    "plt.xticks((1,2), ('Negative Samples', 'Positive Samples'))\n",
    "plt.title('Class Sizes')\n",
    "plt.ylabel(\"Number of Samples\")\n",
    "a[0].set_color('g')\n",
    "a[1].set_color('r')\n",
    "plt.show()"
   ]
  },
  {
   "cell_type": "code",
   "execution_count": 5,
   "metadata": {},
   "outputs": [],
   "source": [
    "randomIdx = np.arange(len(imageFiles))\n",
    "np.random.shuffle(randomIdx)"
   ]
  },
  {
   "cell_type": "code",
   "execution_count": null,
   "metadata": {},
   "outputs": [],
   "source": [
    "# a = plt.bar((1,2),(num_negative, num_positive), align='center')\n",
    "# plt.xticks((1,2), ('Negative Samples', 'Positive Samples'))\n",
    "# plt.title('Class Sizes')\n",
    "# plt.ylabel(\"Number of Samples\")\n",
    "# a[0].set_color('g')\n",
    "# a[1].set_color('r')\n",
    "# plt.show()\n",
    "plt.imshow(images[110])\n"
   ]
  },
  {
   "cell_type": "code",
   "execution_count": null,
   "metadata": {},
   "outputs": [],
   "source": [
    "plt.imshow(imagesRBG[110])"
   ]
  },
  {
   "cell_type": "code",
   "execution_count": 6,
   "metadata": {},
   "outputs": [],
   "source": [
    "def testTrainSplit(images, labels, split = .8):\n",
    "    n = len(images)\n",
    "    div = int(split * n)\n",
    "    xtrain, xtest = images[:div], images[div:]\n",
    "    ytrain, ytest = labels[:div], labels[div:]\n",
    "    return xtrain, ytrain, xtest, ytest\n",
    "\n",
    "xtrain, ytrain, xtest, ytest = testTrainSplit( images, labels)\n",
    "# # print(xtrain.shape)\n",
    "# # print(xtest.shape)\n",
    "# # print(ytrain.shape)\n",
    "# # print(ytest.shape)"
   ]
  },
  {
   "cell_type": "code",
   "execution_count": 53,
   "metadata": {},
   "outputs": [],
   "source": [
    "per = int(len(xtrain) * .8)\n",
    "xtrain, xval = xtrain[:per], xtrain[per:]\n",
    "ytrain, yval = ytrain[:per], ytrain[per:]"
   ]
  },
  {
   "cell_type": "code",
   "execution_count": null,
   "metadata": {},
   "outputs": [],
   "source": [
    "# training_gen = ImageDataGenerator(featurewise_center=True,\n",
    "#     featurewise_std_normalization=True,\n",
    "#     rotation_range=180,\n",
    "#     horizontal_flip=True,vertical_flip = True)\n",
    "# test_gen = ImageDataGenerator(rescale=1./100)\n"
   ]
  },
  {
   "cell_type": "markdown",
   "metadata": {},
   "source": [
    "# Base Model"
   ]
  },
  {
   "cell_type": "code",
   "execution_count": 7,
   "metadata": {},
   "outputs": [
    {
     "name": "stdout",
     "output_type": "stream",
     "text": [
      "WARNING:tensorflow:From /home/justin/.local/lib/python3.6/site-packages/keras/backend/tensorflow_backend.py:4070: The name tf.nn.max_pool is deprecated. Please use tf.nn.max_pool2d instead.\n",
      "\n",
      "WARNING:tensorflow:From /home/justin/.local/lib/python3.6/site-packages/tensorflow/python/ops/nn_impl.py:180: add_dispatch_support.<locals>.wrapper (from tensorflow.python.ops.array_ops) is deprecated and will be removed in a future version.\n",
      "Instructions for updating:\n",
      "Use tf.where in 2.0, which has the same broadcast rule as np.where\n"
     ]
    }
   ],
   "source": [
    "kernel_size = 3\n",
    "\n",
    "model = Sequential()\n",
    "\n",
    "# CONV => RELU => POOL\n",
    "model.add(layers.SeparableConv2D(32, kernel_size, padding=\"same\", input_shape=(50,50,3)))\n",
    "model.add(layers.LeakyReLU(alpha=0.3))\n",
    "#model.add(layers.BatchNormalization(axis=1))\n",
    "model.add(layers.MaxPooling2D(pool_size=(2, 2)))\n",
    "model.add(layers.Dropout(0.25))\n",
    "\n",
    "# (CONV => RELU => POOL) * 2\n",
    "model.add(layers.SeparableConv2D(64, kernel_size, padding=\"same\"))\n",
    "model.add(layers.LeakyReLU(alpha=0.3))\n",
    "#model.add(Layers.BatchNormalization(axis=1))\n",
    "model.add(layers.SeparableConv2D(64, kernel_size, padding=\"same\"))\n",
    "model.add(layers.LeakyReLU(alpha=0.3))\n",
    "#model.add(BatchNormalization(axis=1))\n",
    "model.add(layers.SeparableConv2D(64, kernel_size, padding=\"same\"))\n",
    "model.add(layers.LeakyReLU(alpha=0.3))\n",
    "model.add(layers.MaxPooling2D(pool_size=(2, 2)))\n",
    "model.add(layers.Dropout(0.25))\n",
    "\n",
    "# # (CONV => RELU => POOL) * 3\n",
    "model.add(layers.SeparableConv2D(128, kernel_size, padding=\"same\"))\n",
    "model.add(layers.LeakyReLU(alpha=0.3))\n",
    "#model.add(BatchNormalization(axis=1))\n",
    "model.add(layers.SeparableConv2D(128, kernel_size, padding=\"same\"))\n",
    "model.add(layers.LeakyReLU(alpha=0.3))\n",
    "#model.add(BatchNormalization(axis=1))\n",
    "model.add(layers.SeparableConv2D(128, kernel_size, padding=\"same\"))\n",
    "model.add(layers.LeakyReLU(alpha=0.3))\n",
    "#model.add(BatchNormalization(axis=1))\n",
    "model.add(layers.MaxPooling2D(pool_size=(2, 2)))\n",
    "model.add(layers.Dropout(0.25))\n",
    "\n",
    "# model.add(layers.SeparableConv2D(256, kernel_size, padding=\"same\"))\n",
    "# model.add(layers.LeakyReLU(alpha=0.3))\n",
    "# model.add(layers.MaxPooling2D(pool_size=(2,2)))\n",
    "\n",
    "model.add(layers.Flatten())\n",
    "model.add(layers.Dense(256))\n",
    "model.add(layers.LeakyReLU(alpha=0.3))\n",
    "model.add(layers.Dropout(.5))\n",
    "model.add(layers.Dense(1, activation=\"sigmoid\"))\n",
    "\n",
    "model.compile(loss=\"binary_crossentropy\", \n",
    "              optimizer='Adam',\n",
    "              metrics=[Recall(), 'accuracy'])\n"
   ]
  },
  {
   "cell_type": "code",
   "execution_count": null,
   "metadata": {},
   "outputs": [],
   "source": []
  },
  {
   "cell_type": "code",
   "execution_count": 55,
   "metadata": {
    "scrolled": true
   },
   "outputs": [
    {
     "name": "stdout",
     "output_type": "stream",
     "text": [
      "Train on 88807 samples, validate on 88808 samples\n",
      "Epoch 1/30\n",
      "88807/88807 [==============================] - 386s 4ms/step - loss: 0.4635 - recall_7: 0.4064 - accuracy: 0.7863 - val_loss: 0.4258 - val_recall_7: 0.5637 - val_accuracy: 0.8051\n",
      "Epoch 2/30\n",
      "88807/88807 [==============================] - 398s 4ms/step - loss: 0.3959 - recall_7: 0.6171 - accuracy: 0.8251 - val_loss: 0.3740 - val_recall_7: 0.6289 - val_accuracy: 0.8368\n",
      "Epoch 3/30\n",
      "88807/88807 [==============================] - 386s 4ms/step - loss: 0.3784 - recall_7: 0.6405 - accuracy: 0.8333 - val_loss: 0.3499 - val_recall_7: 0.6472 - val_accuracy: 0.8450\n",
      "Epoch 4/30\n",
      "88807/88807 [==============================] - 361s 4ms/step - loss: 0.3641 - recall_7: 0.6547 - accuracy: 0.8404 - val_loss: 0.3394 - val_recall_7: 0.6601 - val_accuracy: 0.8528\n",
      "Epoch 5/30\n",
      "88807/88807 [==============================] - 374s 4ms/step - loss: 0.3523 - recall_7: 0.6663 - accuracy: 0.8452 - val_loss: 0.3339 - val_recall_7: 0.6713 - val_accuracy: 0.8535\n",
      "Epoch 6/30\n",
      "88807/88807 [==============================] - 370s 4ms/step - loss: 0.3479 - recall_7: 0.6766 - accuracy: 0.8473 - val_loss: 0.3513 - val_recall_7: 0.6834 - val_accuracy: 0.8459\n",
      "Epoch 7/30\n",
      "88807/88807 [==============================] - 344s 4ms/step - loss: 0.3426 - recall_7: 0.6896 - accuracy: 0.8518 - val_loss: 0.3346 - val_recall_7: 0.6920 - val_accuracy: 0.8552\n",
      "Epoch 8/30\n",
      "88807/88807 [==============================] - 343s 4ms/step - loss: 0.3359 - recall_7: 0.6947 - accuracy: 0.8551 - val_loss: 0.3241 - val_recall_7: 0.6957 - val_accuracy: 0.8601\n",
      "Epoch 9/30\n",
      "88807/88807 [==============================] - 346s 4ms/step - loss: 0.3350 - recall_7: 0.6970 - accuracy: 0.8550 - val_loss: 0.3241 - val_recall_7: 0.6999 - val_accuracy: 0.8580\n",
      "Epoch 10/30\n",
      "88807/88807 [==============================] - 336s 4ms/step - loss: 0.3313 - recall_7: 0.7028 - accuracy: 0.8569 - val_loss: 0.3750 - val_recall_7: 0.7071 - val_accuracy: 0.8332\n",
      "Epoch 11/30\n",
      "88807/88807 [==============================] - 343s 4ms/step - loss: 0.3262 - recall_7: 0.7113 - accuracy: 0.8598 - val_loss: 0.3299 - val_recall_7: 0.7130 - val_accuracy: 0.8558\n",
      "Epoch 12/30\n",
      "88807/88807 [==============================] - 336s 4ms/step - loss: 0.3234 - recall_7: 0.7149 - accuracy: 0.8612 - val_loss: 0.3266 - val_recall_7: 0.7135 - val_accuracy: 0.8623\n",
      "Epoch 13/30\n",
      "88807/88807 [==============================] - 341s 4ms/step - loss: 0.3200 - recall_7: 0.7129 - accuracy: 0.8629 - val_loss: 0.3297 - val_recall_7: 0.7142 - val_accuracy: 0.8582\n",
      "Epoch 14/30\n",
      "88807/88807 [==============================] - 334s 4ms/step - loss: 0.3186 - recall_7: 0.7157 - accuracy: 0.8630 - val_loss: 0.3217 - val_recall_7: 0.7168 - val_accuracy: 0.8628\n",
      "Epoch 15/30\n",
      "88807/88807 [==============================] - 340s 4ms/step - loss: 0.3152 - recall_7: 0.7180 - accuracy: 0.8652 - val_loss: 0.3262 - val_recall_7: 0.7176 - val_accuracy: 0.8622\n",
      "Epoch 16/30\n",
      "88807/88807 [==============================] - 337s 4ms/step - loss: 0.3144 - recall_7: 0.7177 - accuracy: 0.8652 - val_loss: 0.3123 - val_recall_7: 0.7184 - val_accuracy: 0.8673\n",
      "Epoch 17/30\n",
      "88807/88807 [==============================] - 338s 4ms/step - loss: 0.3102 - recall_7: 0.7193 - accuracy: 0.8680 - val_loss: 0.3278 - val_recall_7: 0.7208 - val_accuracy: 0.8600\n",
      "Epoch 18/30\n",
      "88807/88807 [==============================] - 342s 4ms/step - loss: 0.3077 - recall_7: 0.7225 - accuracy: 0.8696 - val_loss: 0.3488 - val_recall_7: 0.7239 - val_accuracy: 0.8504\n",
      "Epoch 19/30\n",
      "88807/88807 [==============================] - 334s 4ms/step - loss: 0.3079 - recall_7: 0.7253 - accuracy: 0.8684 - val_loss: 0.3357 - val_recall_7: 0.7266 - val_accuracy: 0.8563\n",
      "Epoch 20/30\n",
      "88807/88807 [==============================] - 341s 4ms/step - loss: 0.3041 - recall_7: 0.7281 - accuracy: 0.8711 - val_loss: 0.3131 - val_recall_7: 0.7283 - val_accuracy: 0.8664\n",
      "Epoch 21/30\n",
      "88807/88807 [==============================] - 334s 4ms/step - loss: 0.3038 - recall_7: 0.7287 - accuracy: 0.8705 - val_loss: 0.3112 - val_recall_7: 0.7294 - val_accuracy: 0.8666\n",
      "Epoch 22/30\n",
      "88807/88807 [==============================] - 341s 4ms/step - loss: 0.3019 - recall_7: 0.7301 - accuracy: 0.8721 - val_loss: 0.3242 - val_recall_7: 0.7313 - val_accuracy: 0.8609\n",
      "Epoch 23/30\n",
      "88807/88807 [==============================] - 334s 4ms/step - loss: 0.3003 - recall_7: 0.7324 - accuracy: 0.8720 - val_loss: 0.3478 - val_recall_7: 0.7337 - val_accuracy: 0.8540\n",
      "Epoch 24/30\n",
      "88807/88807 [==============================] - 340s 4ms/step - loss: 0.2993 - recall_7: 0.7351 - accuracy: 0.8737 - val_loss: 0.3380 - val_recall_7: 0.7357 - val_accuracy: 0.8623\n",
      "Epoch 25/30\n",
      "88807/88807 [==============================] - 334s 4ms/step - loss: 0.2958 - recall_7: 0.7364 - accuracy: 0.8745 - val_loss: 0.3478 - val_recall_7: 0.7376 - val_accuracy: 0.8540\n",
      "Epoch 26/30\n",
      "88807/88807 [==============================] - 340s 4ms/step - loss: 0.2973 - recall_7: 0.7388 - accuracy: 0.8738 - val_loss: 0.3466 - val_recall_7: 0.7398 - val_accuracy: 0.8535\n",
      "Epoch 27/30\n",
      "88807/88807 [==============================] - 334s 4ms/step - loss: 0.2947 - recall_7: 0.7409 - accuracy: 0.8750 - val_loss: 0.3159 - val_recall_7: 0.7407 - val_accuracy: 0.8663\n",
      "Epoch 28/30\n",
      "88807/88807 [==============================] - 390s 4ms/step - loss: 0.2932 - recall_7: 0.7406 - accuracy: 0.8751 - val_loss: 0.3414 - val_recall_7: 0.7415 - val_accuracy: 0.8545\n",
      "Epoch 29/30\n",
      "88807/88807 [==============================] - 398s 4ms/step - loss: 0.2933 - recall_7: 0.7424 - accuracy: 0.8764 - val_loss: 0.3083 - val_recall_7: 0.7423 - val_accuracy: 0.8698\n",
      "Epoch 30/30\n",
      "88807/88807 [==============================] - 391s 4ms/step - loss: 0.2906 - recall_7: 0.7423 - accuracy: 0.8761 - val_loss: 0.3096 - val_recall_7: 0.7423 - val_accuracy: 0.8687\n",
      "Train on 88808 samples, validate on 88807 samples\n",
      "Epoch 1/30\n",
      "88808/88808 [==============================] - 370s 4ms/step - loss: 0.4713 - recall_8: 0.3165 - accuracy: 0.7806 - val_loss: 0.4123 - val_recall_8: 0.5034 - val_accuracy: 0.8146\n",
      "Epoch 2/30\n",
      "88808/88808 [==============================] - 381s 4ms/step - loss: 0.3901 - recall_8: 0.5525 - accuracy: 0.8267 - val_loss: 0.3752 - val_recall_8: 0.5872 - val_accuracy: 0.8324\n",
      "Epoch 3/30\n",
      "88808/88808 [==============================] - 373s 4ms/step - loss: 0.3661 - recall_8: 0.6124 - accuracy: 0.8375 - val_loss: 0.3509 - val_recall_8: 0.6229 - val_accuracy: 0.8457\n",
      "Epoch 4/30\n",
      "88808/88808 [==============================] - 439s 5ms/step - loss: 0.3557 - recall_8: 0.6325 - accuracy: 0.8436 - val_loss: 0.3495 - val_recall_8: 0.6414 - val_accuracy: 0.8452\n",
      "Epoch 5/30\n",
      "88808/88808 [==============================] - 382s 4ms/step - loss: 0.3495 - recall_8: 0.6497 - accuracy: 0.8466 - val_loss: 0.3451 - val_recall_8: 0.6529 - val_accuracy: 0.8492\n",
      "Epoch 6/30\n",
      "88808/88808 [==============================] - 401s 5ms/step - loss: 0.3446 - recall_8: 0.6563 - accuracy: 0.8496 - val_loss: 0.3415 - val_recall_8: 0.6630 - val_accuracy: 0.8495\n",
      "Epoch 7/30\n",
      "88808/88808 [==============================] - 494s 6ms/step - loss: 0.3401 - recall_8: 0.6695 - accuracy: 0.8523 - val_loss: 0.3376 - val_recall_8: 0.6714 - val_accuracy: 0.8564\n",
      "Epoch 8/30\n",
      "88808/88808 [==============================] - 423s 5ms/step - loss: 0.3351 - recall_8: 0.6740 - accuracy: 0.8535 - val_loss: 0.3422 - val_recall_8: 0.6792 - val_accuracy: 0.8492\n",
      "Epoch 9/30\n",
      "88808/88808 [==============================] - 449s 5ms/step - loss: 0.3314 - recall_8: 0.6842 - accuracy: 0.8562 - val_loss: 0.3252 - val_recall_8: 0.6870 - val_accuracy: 0.8580\n",
      "Epoch 10/30\n",
      "88808/88808 [==============================] - 406s 5ms/step - loss: 0.3286 - recall_8: 0.6898 - accuracy: 0.8588 - val_loss: 0.3347 - val_recall_8: 0.6931 - val_accuracy: 0.8577\n",
      "Epoch 11/30\n",
      "88808/88808 [==============================] - 407s 5ms/step - loss: 0.3245 - recall_8: 0.6961 - accuracy: 0.8597 - val_loss: 0.3352 - val_recall_8: 0.6996 - val_accuracy: 0.8534\n",
      "Epoch 12/30\n",
      "88808/88808 [==============================] - 398s 4ms/step - loss: 0.3207 - recall_8: 0.7032 - accuracy: 0.8614 - val_loss: 0.3556 - val_recall_8: 0.7067 - val_accuracy: 0.8488\n",
      "Epoch 13/30\n",
      "88808/88808 [==============================] - 392s 4ms/step - loss: 0.3183 - recall_8: 0.7101 - accuracy: 0.8616 - val_loss: 0.3296 - val_recall_8: 0.7101 - val_accuracy: 0.8584\n",
      "Epoch 14/30\n",
      "88808/88808 [==============================] - 388s 4ms/step - loss: 0.3144 - recall_8: 0.7105 - accuracy: 0.8650 - val_loss: 0.3356 - val_recall_8: 0.7114 - val_accuracy: 0.8558\n",
      "Epoch 15/30\n",
      "88808/88808 [==============================] - 396s 4ms/step - loss: 0.3122 - recall_8: 0.7126 - accuracy: 0.8659 - val_loss: 0.3535 - val_recall_8: 0.7151 - val_accuracy: 0.8493\n",
      "Epoch 16/30\n",
      "88808/88808 [==============================] - 396s 4ms/step - loss: 0.3100 - recall_8: 0.7175 - accuracy: 0.8668 - val_loss: 0.3120 - val_recall_8: 0.7177 - val_accuracy: 0.8660\n",
      "Epoch 17/30\n",
      "88808/88808 [==============================] - 395s 4ms/step - loss: 0.3070 - recall_8: 0.7181 - accuracy: 0.8692 - val_loss: 0.3159 - val_recall_8: 0.7181 - val_accuracy: 0.8641\n",
      "Epoch 18/30\n",
      "88808/88808 [==============================] - 380s 4ms/step - loss: 0.3055 - recall_8: 0.7184 - accuracy: 0.8693 - val_loss: 0.3285 - val_recall_8: 0.7199 - val_accuracy: 0.8587\n",
      "Epoch 19/30\n",
      "88808/88808 [==============================] - 387s 4ms/step - loss: 0.3023 - recall_8: 0.7216 - accuracy: 0.8694 - val_loss: 0.3125 - val_recall_8: 0.7218 - val_accuracy: 0.8646\n",
      "Epoch 20/30\n",
      "88808/88808 [==============================] - 380s 4ms/step - loss: 0.3035 - recall_8: 0.7222 - accuracy: 0.8701 - val_loss: 0.3190 - val_recall_8: 0.7231 - val_accuracy: 0.8618\n",
      "Epoch 21/30\n",
      "88808/88808 [==============================] - 387s 4ms/step - loss: 0.2992 - recall_8: 0.7241 - accuracy: 0.8726 - val_loss: 0.3315 - val_recall_8: 0.7244 - val_accuracy: 0.8607\n",
      "Epoch 22/30\n",
      "88808/88808 [==============================] - 386s 4ms/step - loss: 0.2993 - recall_8: 0.7247 - accuracy: 0.8718 - val_loss: 0.3443 - val_recall_8: 0.7265 - val_accuracy: 0.8514\n",
      "Epoch 23/30\n",
      "88808/88808 [==============================] - 379s 4ms/step - loss: 0.2973 - recall_8: 0.7282 - accuracy: 0.8731 - val_loss: 0.3179 - val_recall_8: 0.7290 - val_accuracy: 0.8647\n",
      "Epoch 24/30\n",
      "88808/88808 [==============================] - 386s 4ms/step - loss: 0.2954 - recall_8: 0.7299 - accuracy: 0.8748 - val_loss: 0.3233 - val_recall_8: 0.7310 - val_accuracy: 0.8615\n",
      "Epoch 25/30\n",
      "88808/88808 [==============================] - 380s 4ms/step - loss: 0.2938 - recall_8: 0.7321 - accuracy: 0.8743 - val_loss: 0.3195 - val_recall_8: 0.7325 - val_accuracy: 0.8650\n",
      "Epoch 26/30\n",
      "88808/88808 [==============================] - 386s 4ms/step - loss: 0.2932 - recall_8: 0.7329 - accuracy: 0.8736 - val_loss: 0.3523 - val_recall_8: 0.7343 - val_accuracy: 0.8539\n",
      "Epoch 27/30\n",
      "88808/88808 [==============================] - 389s 4ms/step - loss: 0.2914 - recall_8: 0.7357 - accuracy: 0.8749 - val_loss: 0.3225 - val_recall_8: 0.7366 - val_accuracy: 0.8615\n",
      "Epoch 28/30\n",
      "88808/88808 [==============================] - 377s 4ms/step - loss: 0.2897 - recall_8: 0.7377 - accuracy: 0.8761 - val_loss: 0.3677 - val_recall_8: 0.7391 - val_accuracy: 0.8422\n",
      "Epoch 29/30\n",
      "88808/88808 [==============================] - 387s 4ms/step - loss: 0.2878 - recall_8: 0.7406 - accuracy: 0.8777 - val_loss: 0.3494 - val_recall_8: 0.7415 - val_accuracy: 0.8585\n",
      "Epoch 30/30\n",
      "88808/88808 [==============================] - 381s 4ms/step - loss: 0.2890 - recall_8: 0.7425 - accuracy: 0.8769 - val_loss: 0.3163 - val_recall_8: 0.7430 - val_accuracy: 0.8677\n"
     ]
    }
   ],
   "source": [
    "kernel_size = 3\n",
    "x_images, y_images= xtrain, ytrain\n",
    "kfold = StratifiedKFold(n_splits=2, shuffle=True)\n",
    "\n",
    "data = {}\n",
    "i=0\n",
    "acc, val_acc, loss, val_loss = [], [], [], []\n",
    "for trainIndex, testIndex in kfold.split(x_images, y_images):\n",
    "\n",
    "    model = Sequential()\n",
    "\n",
    "    # CONV => LEAKYRELU => POOL\n",
    "    model.add(layers.SeparableConv2D(32, kernel_size, padding=\"same\", input_shape=(50,50,3)))\n",
    "    model.add(layers.LeakyReLU(alpha=0.3))\n",
    "    model.add(layers.MaxPooling2D(pool_size=(2, 2)))\n",
    "\n",
    "    # (CONV => LEAKYRELU => POOL) * 3\n",
    "    model.add(layers.SeparableConv2D(64, kernel_size, padding=\"same\"))\n",
    "    model.add(layers.LeakyReLU(alpha=0.3))\n",
    "    model.add(layers.SeparableConv2D(64, kernel_size, padding=\"same\"))\n",
    "    model.add(layers.LeakyReLU(alpha=0.3))\n",
    "    model.add(layers.SeparableConv2D(64, kernel_size, padding=\"same\"))\n",
    "    model.add(layers.LeakyReLU(alpha=0.3))\n",
    "    model.add(layers.MaxPooling2D(pool_size=(2, 2)))\n",
    "    model.add(layers.Dropout(0.25))\n",
    "\n",
    "    # (CONV => LEAKYRELU => POOL) * 3\n",
    "    model.add(layers.SeparableConv2D(128, kernel_size, padding=\"same\"))\n",
    "    model.add(layers.LeakyReLU(alpha=0.3))\n",
    "    model.add(layers.SeparableConv2D(128, kernel_size, padding=\"same\"))\n",
    "    model.add(layers.LeakyReLU(alpha=0.3))\n",
    "    model.add(layers.SeparableConv2D(128, kernel_size, padding=\"same\"))\n",
    "    model.add(layers.LeakyReLU(alpha=0.3))\n",
    "    model.add(layers.MaxPooling2D(pool_size=(2, 2)))\n",
    "    model.add(layers.Dropout(0.25))\n",
    "\n",
    "    # model.add(layers.SeparableConv2D(256, kernel_size, padding=\"same\"))\n",
    "    # model.add(layers.LeakyReLU(alpha=0.3))\n",
    "    # model.add(layers.MaxPooling2D(pool_size=(2,2)))\n",
    "\n",
    "    model.add(layers.Flatten())\n",
    "    model.add(layers.Dense(256))\n",
    "    model.add(layers.LeakyReLU(alpha=0.3))\n",
    "    model.add(layers.Dropout(.5))\n",
    "    model.add(layers.Dense(1, activation=\"sigmoid\"))\n",
    "    model.compile(loss=\"binary_crossentropy\", \n",
    "                optimizer='Adam',\n",
    "                metrics=[Recall(), 'accuracy'])\n",
    "    history = model.fit(x_images[trainIndex], y_images[trainIndex], epochs=30, \n",
    "                        batch_size=32, validation_data=(x_images[testIndex], y_images[testIndex]))\n",
    "    acc.append(history.history['accuracy'])\n",
    "    val_acc.append(history.history['val_accuracy'])\n",
    "    loss.append(history.history['loss'])\n",
    "    val_loss.append(history.history['val_loss'])"
   ]
  },
  {
   "cell_type": "code",
   "execution_count": 62,
   "metadata": {},
   "outputs": [
    {
     "name": "stdout",
     "output_type": "stream",
     "text": [
      "(30,)\n",
      "(30,)\n",
      "(30,)\n",
      "(30,)\n"
     ]
    }
   ],
   "source": [
    "acc1 = np.array(acc).mean(axis=0)\n",
    "val_acc1 = np.array(val_acc).mean(axis=0)\n",
    "loss1 = np.array(loss).mean(axis=0)\n",
    "val_loss1 = np.array(val_loss).mean(axis=0)\n",
    "\n",
    "print(acc1.shape)\n",
    "print(val_acc1.shape)\n",
    "print(loss1.shape)\n",
    "print(val_loss1.shape)"
   ]
  },
  {
   "cell_type": "code",
   "execution_count": 86,
   "metadata": {},
   "outputs": [
    {
     "name": "stdout",
     "output_type": "stream",
     "text": [
      "dict_keys(['val_loss', 'val_recall_8', 'val_accuracy', 'loss', 'recall_8', 'accuracy'])\n",
      "[0.8145754337310791, 0.8323555588722229, 0.8457328677177429, 0.8452149033546448, 0.8491785526275635, 0.8495276570320129, 0.8563627004623413, 0.8491560220718384, 0.858040452003479, 0.8577139377593994, 0.8534011840820312, 0.8487619161605835, 0.8584120869636536, 0.8558334112167358, 0.8493249416351318, 0.866001546382904, 0.8641210794448853, 0.8587160706520081, 0.8645827174186707, 0.8617676496505737, 0.8606641292572021, 0.8513855934143066, 0.8646953701972961, 0.8614523410797119, 0.8649881482124329, 0.8539191484451294, 0.8614974021911621, 0.8422309160232544, 0.8585359454154968, 0.867746889591217]\n"
     ]
    },
    {
     "data": {
      "image/png": "[encoded data removed]",
      "text/plain": [
       "<Figure size 432x288 with 1 Axes>"
      ]
     },
     "metadata": {
      "needs_background": "light"
     },
     "output_type": "display_data"
    }
   ],
   "source": [
    "history_dict = history.history\n",
    "print(history_dict.keys())\n",
    "print(history_dict['val_accuracy'])\n",
    "\n",
    "lossVals = loss1#history_dict['loss']\n",
    "validateLossVals = val_loss1#history_dict['val_loss']\n",
    "epochs = range(1, len(lossVals)+1)\n",
    "plt.plot(epochs, lossVals, 'bo', label='Training Loss')\n",
    "plt.plot(epochs, validateLossVals, 'b', label=\"Validation Loss\")\n",
    "plt.title(\"Training and Validation Loss\")\n",
    "plt.xlabel(\"Epochs\")\n",
    "plt.ylabel(\"Loss\")\n",
    "plt.legend()\n",
    "plt.show()"
   ]
  },
  {
   "cell_type": "code",
   "execution_count": 87,
   "metadata": {},
   "outputs": [
    {
     "data": {
      "image/png": "[encoded data removed]",
      "text/plain": [
       "<Figure size 432x288 with 1 Axes>"
      ]
     },
     "metadata": {
      "needs_background": "light"
     },
     "output_type": "display_data"
    }
   ],
   "source": [
    "acc = acc1#history_dict['accuracy']\n",
    "valAcc = val_acc1#history_dict['val_accuracy']\n",
    "epochs = range(1, len(acc)+1)\n",
    "plt.plot(epochs, acc, 'bo', label='Training Accuracy')\n",
    "plt.plot(epochs, valAcc, 'b', label=\"Validation Accuracy\")\n",
    "plt.title(\"Training and Validation Accuracy\")\n",
    "plt.xlabel(\"Epochs\")\n",
    "plt.ylabel(\"Accuracy\")\n",
    "plt.legend()\n",
    "plt.show()"
   ]
  },
  {
   "cell_type": "code",
   "execution_count": null,
   "metadata": {},
   "outputs": [],
   "source": [
    "print(data)\n",
    "pos, neg = [], []\n",
    "for d in data:\n",
    "    d = data[d]\n",
    "    pos.append(d[0])\n",
    "    neg.append(d[1])\n",
    "\n",
    "ind = np.arange(5)\n",
    "width = .4\n",
    "plt.bar(ind, pos, width, label=\"Positive\", color='r')\n",
    "plt.bar(ind+width, neg, width, label=\"Negative\", color=\"g\")\n",
    "plt.ylabel('Number of Samples')\n",
    "plt.xticks(ind+width/2, ('Fold 1','Fold 2','Fold 3', 'Fold 4', 'Fold 5'))\n",
    "plt.legend(loc='best')"
   ]
  },
  {
   "cell_type": "code",
   "execution_count": null,
   "metadata": {},
   "outputs": [],
   "source": [
    "    data['fold'] = i\n",
    "    data['pos_samples'] = np.count_nonzero(y_images[trainIndex]==1)\n",
    "    data['neg_samples'] = np.count_nonzero(y_images[trainIndex]==0)\n",
    "    data['loss'] = history.history['loss']\n",
    "    data['val_loss'] = history.history['val_loss']\n",
    "    data['val_accuracy'] = history.history['val_accuracy']\n",
    "    data['accuracy'] = history.history['val_accuracy']\n",
    "    "
   ]
  },
  {
   "cell_type": "code",
   "execution_count": 8,
   "metadata": {},
   "outputs": [
    {
     "name": "stdout",
     "output_type": "stream",
     "text": [
      "WARNING:tensorflow:From /home/justin/.local/lib/python3.6/site-packages/keras/backend/tensorflow_backend.py:422: The name tf.global_variables is deprecated. Please use tf.compat.v1.global_variables instead.\n",
      "\n",
      "Epoch 1/16\n",
      "222019/222019 [==============================] - 650s 3ms/step - loss: 0.4253 - recall: 0.4233 - accuracy: 0.8097\n",
      "Epoch 2/16\n",
      "222019/222019 [==============================] - 706s 3ms/step - loss: 0.3762 - recall: 0.5705 - accuracy: 0.8350\n",
      "Epoch 3/16\n",
      "222019/222019 [==============================] - 724s 3ms/step - loss: 0.3598 - recall: 0.6081 - accuracy: 0.8429\n",
      "Epoch 4/16\n",
      "222019/222019 [==============================] - 664s 3ms/step - loss: 0.3479 - recall: 0.6298 - accuracy: 0.8482\n",
      "Epoch 5/16\n",
      "222019/222019 [==============================] - 664s 3ms/step - loss: 0.3396 - recall: 0.6443 - accuracy: 0.8529\n",
      "Epoch 6/16\n",
      "222019/222019 [==============================] - 661s 3ms/step - loss: 0.3309 - recall: 0.6555 - accuracy: 0.8576\n",
      "Epoch 7/16\n",
      "222019/222019 [==============================] - 643s 3ms/step - loss: 0.3251 - recall: 0.6639 - accuracy: 0.8610\n",
      "Epoch 8/16\n",
      "222019/222019 [==============================] - 692s 3ms/step - loss: 0.3206 - recall: 0.6714 - accuracy: 0.8629\n",
      "Epoch 9/16\n",
      "222019/222019 [==============================] - 666s 3ms/step - loss: 0.3179 - recall: 0.6770 - accuracy: 0.8639\n",
      "Epoch 10/16\n",
      "222019/222019 [==============================] - 616s 3ms/step - loss: 0.3146 - recall: 0.6818 - accuracy: 0.8660\n",
      "Epoch 11/16\n",
      "222019/222019 [==============================] - 638s 3ms/step - loss: 0.3120 - recall: 0.6862 - accuracy: 0.8671\n",
      "Epoch 12/16\n",
      "222019/222019 [==============================] - 647s 3ms/step - loss: 0.3111 - recall: 0.6898 - accuracy: 0.8680\n",
      "Epoch 13/16\n",
      "222019/222019 [==============================] - 628s 3ms/step - loss: 0.3079 - recall: 0.6929 - accuracy: 0.8693\n",
      "Epoch 14/16\n",
      "222019/222019 [==============================] - 621s 3ms/step - loss: 0.3051 - recall: 0.6961 - accuracy: 0.8708\n",
      "Epoch 15/16\n",
      "222019/222019 [==============================] - 622s 3ms/step - loss: 0.3039 - recall: 0.6987 - accuracy: 0.8717\n",
      "Epoch 16/16\n",
      "222019/222019 [==============================] - 622s 3ms/step - loss: 0.3027 - recall: 0.7011 - accuracy: 0.8714\n"
     ]
    }
   ],
   "source": [
    "history = model.fit(xtrain, ytrain, epochs=16, batch_size=32)\n",
    "#history = model.fit_generator(training_gen.flow(xtrain, ytrain, batch_size=32), epochs=20, validation_data=(xval, yval))"
   ]
  },
  {
   "cell_type": "code",
   "execution_count": null,
   "metadata": {},
   "outputs": [],
   "source": [
    "history_dict = history.history\n",
    "print(history_dict.keys())\n",
    "print(history_dict['val_accuracy'])\n",
    "\n",
    "lossVals = history_dict['loss']\n",
    "validateLossVals = history_dict['val_loss']\n",
    "epochs = range(1, len(lossVals)+1)\n",
    "plt.plot(epochs, lossVals, 'bo', label='Training Loss')\n",
    "plt.plot(epochs, validateLossVals, 'b', label=\"Validation Loss\")\n",
    "plt.title(\"Training and Validation Loss\")\n",
    "plt.xlabel(\"Epochs\")\n",
    "plt.ylabel(\"Loss\")\n",
    "plt.legend()\n",
    "plt.show()"
   ]
  },
  {
   "cell_type": "code",
   "execution_count": null,
   "metadata": {},
   "outputs": [],
   "source": [
    "recall = history_dict['recall_6']\n",
    "valRecall = history_dict['val_recall_6']\n",
    "epochs = range(1, len(recall)+1)\n",
    "plt.plot(epochs, recall, 'bo', label='Training Recall')\n",
    "plt.plot(epochs, valRecall, 'b', label=\"Validation Recall\")\n",
    "plt.title(\"Training and Validation Recall\")\n",
    "plt.xlabel(\"Epochs\")\n",
    "plt.ylabel(\"Recall\")\n",
    "plt.legend()\n",
    "plt.show()"
   ]
  },
  {
   "cell_type": "code",
   "execution_count": null,
   "metadata": {},
   "outputs": [],
   "source": [
    "acc = history_dict['accuracy']\n",
    "valAcc = history_dict['val_accuracy']\n",
    "epochs = range(1, len(acc)+1)\n",
    "plt.plot(epochs, acc, 'bo', label='Training Accuracy')\n",
    "plt.plot(epochs, valAcc, 'b', label=\"Validation Accuracy\")\n",
    "plt.title(\"Training and Validation Recall\")\n",
    "plt.xlabel(\"Epochs\")\n",
    "plt.ylabel(\"Accuracy\")\n",
    "plt.legend()\n",
    "plt.show()"
   ]
  },
  {
   "cell_type": "code",
   "execution_count": 9,
   "metadata": {},
   "outputs": [
    {
     "name": "stdout",
     "output_type": "stream",
     "text": [
      "55505/55505 [==============================] - 45s 815us/step\n"
     ]
    },
    {
     "data": {
      "text/plain": [
       "[0.29752462046493894, 0.7029577493667603, 0.8751463890075684]"
      ]
     },
     "execution_count": 9,
     "metadata": {},
     "output_type": "execute_result"
    }
   ],
   "source": [
    "model.evaluate(xtest, ytest)"
   ]
  },
  {
   "cell_type": "code",
   "execution_count": 27,
   "metadata": {},
   "outputs": [],
   "source": [
    "model.save('name.h5')"
   ]
  },
  {
   "cell_type": "code",
   "execution_count": 15,
   "metadata": {},
   "outputs": [],
   "source": [
    "\n",
    "cpred = model.predict(xtest, use_multiprocessing=True)\n",
    "cpred = np.around(cpred, decimals=0)\n",
    "\n"
   ]
  },
  {
   "cell_type": "code",
   "execution_count": 25,
   "metadata": {},
   "outputs": [
    {
     "ename": "ValueError",
     "evalue": "setting an array element with a sequence.",
     "output_type": "error",
     "traceback": [
      "\u001b[0;31m---------------------------------------------------------------------------\u001b[0m",
      "\u001b[0;31mTypeError\u001b[0m                                 Traceback (most recent call last)",
      "\u001b[0;31mTypeError\u001b[0m: float() argument must be a string or a number, not 'Tensor'",
      "\nThe above exception was the direct cause of the following exception:\n",
      "\u001b[0;31mValueError\u001b[0m                                Traceback (most recent call last)",
      "\u001b[0;32m<ipython-input-25-3733fb30f038>\u001b[0m in \u001b[0;36m<module>\u001b[0;34m\u001b[0m\n\u001b[1;32m      3\u001b[0m \u001b[0;34m\u001b[0m\u001b[0m\n\u001b[1;32m      4\u001b[0m \u001b[0mcon_mat\u001b[0m \u001b[0;34m=\u001b[0m \u001b[0mnp\u001b[0m\u001b[0;34m.\u001b[0m\u001b[0marray\u001b[0m\u001b[0;34m(\u001b[0m\u001b[0mtensorflow\u001b[0m\u001b[0;34m.\u001b[0m\u001b[0mmath\u001b[0m\u001b[0;34m.\u001b[0m\u001b[0mconfusion_matrix\u001b[0m\u001b[0;34m(\u001b[0m\u001b[0mlabels\u001b[0m\u001b[0;34m=\u001b[0m\u001b[0mytest\u001b[0m\u001b[0;34m,\u001b[0m \u001b[0mpredictions\u001b[0m\u001b[0;34m=\u001b[0m\u001b[0mcpred\u001b[0m\u001b[0;34m)\u001b[0m\u001b[0;34m,\u001b[0m \u001b[0mdtype\u001b[0m\u001b[0;34m=\u001b[0m\u001b[0mobject\u001b[0m\u001b[0;34m)\u001b[0m\u001b[0;34m\u001b[0m\u001b[0;34m\u001b[0m\u001b[0m\n\u001b[0;32m----> 5\u001b[0;31m \u001b[0mcon_mat_norm\u001b[0m \u001b[0;34m=\u001b[0m \u001b[0mnp\u001b[0m\u001b[0;34m.\u001b[0m\u001b[0maround\u001b[0m\u001b[0;34m(\u001b[0m\u001b[0mcon_mat\u001b[0m\u001b[0;34m.\u001b[0m\u001b[0mastype\u001b[0m\u001b[0;34m(\u001b[0m\u001b[0;34m'float'\u001b[0m\u001b[0;34m)\u001b[0m \u001b[0;34m/\u001b[0m \u001b[0mcon_mat\u001b[0m\u001b[0;34m.\u001b[0m\u001b[0msum\u001b[0m\u001b[0;34m(\u001b[0m\u001b[0maxis\u001b[0m\u001b[0;34m=\u001b[0m\u001b[0;36m1\u001b[0m\u001b[0;34m)\u001b[0m\u001b[0;34m[\u001b[0m\u001b[0;34m:\u001b[0m\u001b[0;34m,\u001b[0m \u001b[0mnp\u001b[0m\u001b[0;34m.\u001b[0m\u001b[0mnewaxis\u001b[0m\u001b[0;34m]\u001b[0m\u001b[0;34m,\u001b[0m \u001b[0mdecimals\u001b[0m\u001b[0;34m=\u001b[0m\u001b[0;36m2\u001b[0m\u001b[0;34m)\u001b[0m\u001b[0;34m\u001b[0m\u001b[0;34m\u001b[0m\u001b[0m\n\u001b[0m\u001b[1;32m      6\u001b[0m \u001b[0;34m\u001b[0m\u001b[0m\n\u001b[1;32m      7\u001b[0m con_mat_df = DataFrame(con_mat_norm,\n",
      "\u001b[0;31mValueError\u001b[0m: setting an array element with a sequence."
     ]
    }
   ],
   "source": [
    "classes = [\"IDC not present\", \"IDC present\"]\n",
    "columns = [\"IDC not present\", \"IDC present\"]\n",
    "\n",
    "con_mat = np.array(tensorflow.math.confusion_matrix(labels=ytest, predictions=cpred))\n",
    "con_mat_norm = np.around(con_mat.astype('float') / con_mat.sum(axis=1)[:, np.newaxis], decimals=2)\n",
    "\n",
    "con_mat_df = DataFrame(con_mat_norm,\n",
    "                     index = classes, \n",
    "                     columns = classes)\n",
    "\n",
    "figure = plt.figure(figsize=(8, 8))\n",
    "seaborn.heatmap(con_mat_df, annot=True,cmap=plt.cm.Blues)\n",
    "plt.tight_layout()\n",
    "plt.ylabel('True label')\n",
    "plt.xlabel('Predicted label')\n",
    "plt.show()"
   ]
  },
  {
   "cell_type": "code",
   "execution_count": null,
   "metadata": {},
   "outputs": [],
   "source": [
    "pred_labels = model.predict(xtest, use_multiprocessing=True)\n",
    "pred_labels = np.argmax(pred_labels, axis=1)\n"
   ]
  },
  {
   "cell_type": "code",
   "execution_count": null,
   "metadata": {},
   "outputs": [],
   "source": [
    "print(history_dict['val_accuracy'])\n",
    "print(history_dict['val_recall_6'])\n",
    "print(history_dict['val_loss'])"
   ]
  },
  {
   "cell_type": "code",
   "execution_count": null,
   "metadata": {},
   "outputs": [],
   "source": []
  },
  {
   "cell_type": "code",
   "execution_count": null,
   "metadata": {},
   "outputs": [],
   "source": []
  },
  {
   "cell_type": "code",
   "execution_count": null,
   "metadata": {},
   "outputs": [],
   "source": []
  },
  {
   "cell_type": "code",
   "execution_count": null,
   "metadata": {},
   "outputs": [],
   "source": []
  }
 ],
 "metadata": {
  "kernelspec": {
   "display_name": "Python 3",
   "language": "python",
   "name": "python3"
  },
  "language_info": {
   "codemirror_mode": {
    "name": "ipython",
    "version": 3
   },
   "file_extension": ".py",
   "mimetype": "text/x-python",
   "name": "python",
   "nbconvert_exporter": "python",
   "pygments_lexer": "ipython3",
   "version": "3.6.9"
  }
 },
 "nbformat": 4,
 "nbformat_minor": 4
}
